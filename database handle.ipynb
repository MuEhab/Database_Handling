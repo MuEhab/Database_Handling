{
 "cells": [
  {
   "cell_type": "markdown",
   "metadata": {},
   "source": [
    "## Read Data From Database"
   ]
  },
  {
   "cell_type": "code",
   "execution_count": 1,
   "metadata": {},
   "outputs": [],
   "source": [
    "import mysql.connector\n",
    "\n",
    "cnx = mysql.connector.connect(user='root', password='1234', host='localhost', database='weather', auth_plugin='mysql_native_password')\n",
    "cursor = cnx.cursor()\n",
    "\n",
    "cursor.execute('''SELECT * FROM users;''')"
   ]
  },
  {
   "cell_type": "code",
   "execution_count": 2,
   "metadata": {},
   "outputs": [],
   "source": [
    "rows = cursor.fetchall()"
   ]
  },
  {
   "cell_type": "code",
   "execution_count": 3,
   "metadata": {},
   "outputs": [
    {
     "name": "stdout",
     "output_type": "stream",
     "text": [
      "user with id 3 has name eman lives in Giza and his age = 20\n",
      "user with id 12 has name Eslam Ahmed lives in Cairo and his age = 20\n",
      "user with id 15 has name hamada lives in Cairo and his age = 22\n",
      "user with id 19 has name Medhat lives in Maadi and his age = 22\n",
      "user with id 22 has name Menna lives in Cairo and his age = 22\n",
      "user with id 23 has name Ezz lives in Giza and his age = 22\n",
      "user with id 25 has name Menna lives in Cairo and his age = 22\n",
      "user with id 27 has name Ahmed lives in Giza and his age = 25\n"
     ]
    }
   ],
   "source": [
    "for uid,name,city,age  in rows:\n",
    "    print(f'user with id {uid} has name {name} lives in {city} and his age = {age}')"
   ]
  },
  {
   "cell_type": "markdown",
   "metadata": {},
   "source": [
    "## Use Pandas to execute sql"
   ]
  },
  {
   "cell_type": "code",
   "execution_count": 11,
   "metadata": {},
   "outputs": [
    {
     "data": {
      "text/html": [
       "<div>\n",
       "<style scoped>\n",
       "    .dataframe tbody tr th:only-of-type {\n",
       "        vertical-align: middle;\n",
       "    }\n",
       "\n",
       "    .dataframe tbody tr th {\n",
       "        vertical-align: top;\n",
       "    }\n",
       "\n",
       "    .dataframe thead th {\n",
       "        text-align: right;\n",
       "    }\n",
       "</style>\n",
       "<table border=\"1\" class=\"dataframe\">\n",
       "  <thead>\n",
       "    <tr style=\"text-align: right;\">\n",
       "      <th></th>\n",
       "      <th>id</th>\n",
       "      <th>name1</th>\n",
       "      <th>city</th>\n",
       "      <th>age</th>\n",
       "    </tr>\n",
       "  </thead>\n",
       "  <tbody>\n",
       "    <tr>\n",
       "      <th>0</th>\n",
       "      <td>0</td>\n",
       "      <td>Ahmed</td>\n",
       "      <td>Giza</td>\n",
       "      <td>25</td>\n",
       "    </tr>\n",
       "    <tr>\n",
       "      <th>1</th>\n",
       "      <td>3</td>\n",
       "      <td>eman</td>\n",
       "      <td>Giza</td>\n",
       "      <td>20</td>\n",
       "    </tr>\n",
       "    <tr>\n",
       "      <th>2</th>\n",
       "      <td>12</td>\n",
       "      <td>Eslam Ahmed</td>\n",
       "      <td>Cairo</td>\n",
       "      <td>20</td>\n",
       "    </tr>\n",
       "    <tr>\n",
       "      <th>3</th>\n",
       "      <td>15</td>\n",
       "      <td>hamada</td>\n",
       "      <td>Cairo</td>\n",
       "      <td>22</td>\n",
       "    </tr>\n",
       "    <tr>\n",
       "      <th>4</th>\n",
       "      <td>19</td>\n",
       "      <td>Medhat</td>\n",
       "      <td>Maadi</td>\n",
       "      <td>22</td>\n",
       "    </tr>\n",
       "  </tbody>\n",
       "</table>\n",
       "</div>"
      ],
      "text/plain": [
       "   id        name1   city  age\n",
       "0   0        Ahmed   Giza   25\n",
       "1   3         eman   Giza   20\n",
       "2  12  Eslam Ahmed  Cairo   20\n",
       "3  15       hamada  Cairo   22\n",
       "4  19       Medhat  Maadi   22"
      ]
     },
     "execution_count": 11,
     "metadata": {},
     "output_type": "execute_result"
    }
   ],
   "source": [
    "import pandas as pd\n",
    "df = pd.read_sql(\"SELECT * from users\", cnx)\n",
    "cnx.close()\n",
    "df.head()"
   ]
  },
  {
   "cell_type": "markdown",
   "metadata": {},
   "source": [
    "import mysql.connector\n",
    "\n",
    "cnx = mysql.connector.connect(user='root', password='0000', host='127.0.0.1',database='weather')\n",
    "cursor = cnx.cursor()\n",
    "cursor.execute(f\"SELECT * FROM weather.users WHERE city = {city_input} ; \")\n",
    "rows = cursor.fetchall()\n",
    "\n",
    "for uid,name,city,age  in rows:\n",
    "    print(f'user with id {uid} has name {name} lives in {city} and his age = {age}')"
   ]
  },
  {
   "cell_type": "markdown",
   "metadata": {},
   "source": [
    "## Insert Data into Database"
   ]
  },
  {
   "cell_type": "code",
   "execution_count": 5,
   "metadata": {},
   "outputs": [
    {
     "name": "stdout",
     "output_type": "stream",
     "text": [
      "enter city nameCairo\n",
      "user with id 12 has name Eslam Ahmed lives in Cairo and his age = 20\n",
      "user with id 15 has name hamada lives in Cairo and his age = 22\n",
      "user with id 22 has name Menna lives in Cairo and his age = 22\n",
      "user with id 25 has name Menna lives in Cairo and his age = 22\n"
     ]
    }
   ],
   "source": [
    "city_input = input(\"enter city name\")\n",
    "cnx = mysql.connector.connect(user='root', password='1234', host='127.0.0.1',database='weather')\n",
    "cursor = cnx.cursor()\n",
    "cursor.execute(f\"SELECT * FROM weather.users WHERE city = '{city_input}' ; \")\n",
    "rows = cursor.fetchall()\n",
    "for uid,name,city,age  in rows:\n",
    "    print(f'user with id {uid} has name {name} lives in {city} and his age = {age}')"
   ]
  },
  {
   "cell_type": "code",
   "execution_count": 6,
   "metadata": {},
   "outputs": [],
   "source": [
    "connection = mysql.connector.connect(user='root', password='1234', host='127.0.0.1',database='weather')\n",
    "cursor = cnx.cursor()\n",
    "cursor.execute(\"\"\"INSERT INTO users (id, name1,city,age) VALUES (%s,%s, %s, %s)\"\"\" , (312,'Ebrahem', 'Giza', '35'))\n",
    "connection.commit()\n",
    "connection.close()"
   ]
  },
  {
   "cell_type": "code",
   "execution_count": 7,
   "metadata": {},
   "outputs": [],
   "source": [
    "connection = mysql.connector.connect(user='root', password='1234', host='127.0.0.1',database='weather')\n",
    "cursor = cnx.cursor()\n",
    "cursor.execute(\"INSERT INTO users (id,name1,city,age) VALUES (%s, %s, %s,%s)\", [0,'Ahmed', 'Giza', '25'])\n",
    "connection.commit()\n",
    "connection.close()"
   ]
  },
  {
   "cell_type": "code",
   "execution_count": 8,
   "metadata": {},
   "outputs": [
    {
     "name": "stdout",
     "output_type": "stream",
     "text": [
      "Enter user name: Muhab\n",
      "Enter user city: Cairo\n",
      "Enter user age: 27\n"
     ]
    }
   ],
   "source": [
    "name = input('Enter user name: ')\n",
    "city = input('Enter user city: ')\n",
    "age = input('Enter user age: ')\n",
    "\n",
    "connection = mysql.connector.connect(user='root', password='1234', host='127.0.0.1',database='weather')\n",
    "cursor = cnx.cursor()\n",
    "cursor.execute(\"INSERT INTO users (id,name1,city,age) VALUES (%s, %s, %s,%s)\", [23432,name, city, age])\n",
    "connection.commit()\n",
    "connection.close()"
   ]
  },
  {
   "cell_type": "markdown",
   "metadata": {},
   "source": [
    "## Update Data in Database"
   ]
  },
  {
   "cell_type": "code",
   "execution_count": 9,
   "metadata": {},
   "outputs": [],
   "source": [
    "connection = mysql.connector.connect(user='root', password='1234', host='127.0.0.1',database='weather')\n",
    "cursor = cnx.cursor()\n",
    "cursor.execute(\"UPDATE users SET name1=%s, age=%s WHERE id=%s \", ['Ezz', 22, 31])\n",
    "connection.commit()\n",
    "connection.close()"
   ]
  },
  {
   "cell_type": "markdown",
   "metadata": {},
   "source": [
    "## Delete Data in Database"
   ]
  },
  {
   "cell_type": "code",
   "execution_count": 10,
   "metadata": {},
   "outputs": [],
   "source": [
    "connection = mysql.connector.connect(user='root', password='1234', host='127.0.0.1',database='weather')\n",
    "cursor = cnx.cursor()\n",
    "cursor.execute(\"DELETE FROM users WHERE age >= %s \", [30])\n",
    "connection.commit()\n",
    "connection.close()"
   ]
  }
 ],
 "metadata": {
  "kernelspec": {
   "display_name": "Python 3",
   "language": "python",
   "name": "python3"
  },
  "language_info": {
   "codemirror_mode": {
    "name": "ipython",
    "version": 3
   },
   "file_extension": ".py",
   "mimetype": "text/x-python",
   "name": "python",
   "nbconvert_exporter": "python",
   "pygments_lexer": "ipython3",
   "version": "3.7.6"
  }
 },
 "nbformat": 4,
 "nbformat_minor": 4
}
